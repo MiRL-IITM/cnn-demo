{
 "cells": [
  {
   "cell_type": "markdown",
   "metadata": {},
   "source": [
    "# 1 Visualize a Sample Image and its Segmentation Mask\n",
    "\n"
   ]
  },
  {
   "cell_type": "code",
   "execution_count": null,
   "metadata": {},
   "outputs": [],
   "source": [
    "# Code to visualize a sample image and its segmentation mask\n",
    "\n",
    "# Get data loaders\n",
    "train_loader, val_loader, test_set = get_data_loaders(batch_size=16)\n",
    "\n",
    "# Visualize a sample image and its segmentation mask\n",
    "visualize_sample(train_loader)"
   ]
  },
  {
   "cell_type": "markdown",
   "metadata": {},
   "source": [
    "# 2 Identify the Classes in the Code that is used to load the data\n",
    "\n",
    "Q2.1: First of all identify the classes that are used to load the data.\n",
    "\n",
    "A2.1: The classes are `DroneDataset` and `DroneTestDataset`.\n"
   ]
  },
  {
   "cell_type": "markdown",
   "metadata": {},
   "source": [
    "\n",
    "Q2.2: What is the purpose of the `tiles` method in the `DroneDataset` class?\n",
    "\n",
    "A2.2: The `tiles` method is used to create patches of the image and mask. This is done to handle large images that cannot be processed at once.\n"
   ]
  },
  {
   "cell_type": "markdown",
   "metadata": {},
   "source": [
    "\n",
    "Q2.3: What is the purpose of the `DroneTestDataset` class? Why is it different from the `DroneDataset` class?\n",
    "\n",
    "A2.3: The `DroneTestDataset` class is used to load the test data. It is different from the `DroneDataset` class because it does not perform any data augmentation.\n"
   ]
  },
  {
   "cell_type": "markdown",
   "metadata": {},
   "source": [
    "Q2.4: What is the purpose of the `get_data_loaders` function?\n",
    "\n",
    "A2.4: The `get_data_loaders` function is used to create the data loaders for the training, validation, and test sets.\n"
   ]
  },
  {
   "cell_type": "markdown",
   "metadata": {},
   "source": []
  },
  {
   "cell_type": "markdown",
   "metadata": {},
   "source": [
    "# 3 Create the Model\n",
    "\n",
    "Q3.1: Look at the `create_model` function. What is the first layer of the model?\n",
    "\n",
    "A3.1: The first layer of the model is a `Conv2d` layer with 16 output channels, a kernel size of 3, and a stride of 1.\n",
    "\n",
    "\n",
    "Q3.2: What is the purpose of the `Conv2d` layer?\n",
    "\n",
    "A3.2: The `Conv2d` layer is used to extract features from the input image.\n",
    "\n",
    "Q3.3: What is the purpose of the `MaxPool2d` layer?\n",
    "\n",
    "A3.3: The `MaxPool2d` layer is used to reduce the spatial dimensions of the input image.\n",
    "\n",
    "Q3.4: What is the purpose of the `Upsample` layer?\n",
    "\n",
    "A3.4: The `Upsample` layer is used to increase the spatial dimensions of the input image.\n",
    "\n"
   ]
  },
  {
   "cell_type": "markdown",
   "metadata": {},
   "source": [
    "# 4 Train the Model\n",
    "\n",
    "Q4.1: What is the purpose of the `fit` function?\n",
    "\n",
    "A4.1: The `fit` function is used to train the model.\n",
    "\n",
    "\n",
    "Q4.2: What is the purpose of the `resume_from_checkpoint` function?\n",
    "\n",
    "A4.2: The `resume_from_checkpoint` function is used to resume training from a checkpoint.\n",
    "\n",
    "\n",
    "\n"
   ]
  },
  {
   "cell_type": "markdown",
   "metadata": {},
   "source": [
    "# 5 Inference\n",
    "\n",
    "Q5.1: What is the purpose of the `evaluate_model` function?\n",
    "\n",
    "A5.1: The `evaluate_model` function is used to evaluate the model on the test set.\n"
   ]
  },
  {
   "cell_type": "markdown",
   "metadata": {},
   "source": [
    "# 6 Visualize Predictions\n",
    "\n",
    "Q6.1: What is the purpose of the `visualize_predictions` function?\n",
    "\n",
    "A6.1: The `visualize_predictions` function is used to visualize the predictions of the model on the test set.\n"
   ]
  },
  {
   "cell_type": "markdown",
   "metadata": {},
   "source": [
    "# 7 Metrics\n",
    "\n",
    "Q7.1: What is the purpose of the `mIoU` function?\n",
    "\n",
    "A7.1: The `mIoU` function is used to calculate the mean Intersection over Union (mIoU) score.\n",
    "\n",
    "Q7.2: What is the purpose of the `pixel_accuracy` function?\n",
    "\n",
    "A7.2: The `pixel_accuracy` function is used to calculate the pixel accuracy score.\n"
   ]
  },
  {
   "cell_type": "markdown",
   "metadata": {},
   "source": [
    "# 8 Inference - Intermediate Difficulty\n",
    "\n",
    "Q8.1: Write the code to perform inference on a single image using the code provided in the notebook."
   ]
  },
  {
   "cell_type": "code",
   "execution_count": null,
   "metadata": {},
   "outputs": [],
   "source": [
    "def inference(model_path):\n",
    "    # Get data loaders\n",
    "    _, _, test_set = get_data_loaders(batch_size=16)\n",
    "\n",
    "    # Load the trained model\n",
    "    model = torch.load(model_path, map_location=device)\n",
    "    print(f\"Loaded model from {model_path}\")\n",
    "\n",
    "    # Evaluate on test set\n",
    "    test_miou, test_accuracy = evaluate_model(model, test_set)\n",
    "    print(\"Test Set mIoU:\", test_miou)\n",
    "    print(\"Test Set Pixel Accuracy:\", test_accuracy)\n",
    "\n",
    "    # Visualize predictions\n",
    "    visualize_predictions(model, test_set, \"test_predictions.pdf\")\n"
   ]
  },
  {
   "cell_type": "markdown",
   "metadata": {},
   "source": [
    "# 9 Train - Intermediate Difficulty\n",
    "\n",
    "Q9.1: Write the code to train the model on the training set and save the model.\n"
   ]
  },
  {
   "cell_type": "code",
   "execution_count": null,
   "metadata": {},
   "outputs": [],
   "source": [
    "\n",
    "def train_model():\n",
    "    # Get data loaders\n",
    "    train_loader, val_loader, test_set = get_data_loaders(batch_size=16)\n",
    "\n",
    "    # Visualize a sample image and its segmentation mask\n",
    "    visualize_sample(train_loader)\n",
    "\n",
    "    # Create model\n",
    "    model = create_model()\n",
    "\n",
    "    # Training parameters\n",
    "    max_lr = 1e-3\n",
    "    epochs = 30\n",
    "    weight_decay = 1e-4\n",
    "\n",
    "    # Loss function\n",
    "    criterion = nn.CrossEntropyLoss()\n",
    "\n",
    "    # Optimizer\n",
    "    optimizer = torch.optim.AdamW(\n",
    "        model.parameters(), lr=max_lr, weight_decay=weight_decay\n",
    "    )\n",
    "\n",
    "    # Learning rate scheduler\n",
    "    sched = torch.optim.lr_scheduler.OneCycleLR(\n",
    "        optimizer, max_lr, epochs=epochs, steps_per_epoch=len(train_loader)\n",
    "    )\n",
    "\n",
    "    # Check for existing checkpoints and resume training if possible\n",
    "    checkpoint_dir = \"checkpoints\"\n",
    "    os.makedirs(checkpoint_dir, exist_ok=True)\n",
    "    model, optimizer, sched, start_epoch, min_loss, history = resume_from_checkpoint(\n",
    "        model, optimizer, sched, checkpoint_dir\n",
    "    )\n",
    "\n",
    "    # Train the model\n",
    "    history = fit(\n",
    "        epochs - start_epoch,\n",
    "        model,\n",
    "        train_loader,\n",
    "        val_loader,\n",
    "        criterion,\n",
    "        optimizer,\n",
    "        sched,\n",
    "        checkpoint_dir=checkpoint_dir,\n",
    "    )\n",
    "\n",
    "    # Save the final model\n",
    "    torch.save(model, \"Unet-Mobilenet.pt\")\n",
    "\n",
    "    # Plot training results\n",
    "    plot_loss(history)\n",
    "    plot_score(history)\n",
    "    plot_acc(history)\n",
    "\n",
    "    # Evaluate on test set\n",
    "    test_miou, test_accuracy = evaluate_model(model, test_set)\n",
    "    print(\"Test Set mIoU:\", test_miou)\n",
    "    print(\"Test Set Pixel Accuracy:\", test_accuracy)\n",
    "\n",
    "    # Visualize predictions\n",
    "    visualize_predictions(model, test_set, \"test_predictions.pdf\")\n",
    "\n",
    "    return model"
   ]
  }
 ],
 "metadata": {
  "kernelspec": {
   "display_name": "ml311",
   "language": "python",
   "name": "python3"
  },
  "language_info": {
   "codemirror_mode": {
    "name": "ipython",
    "version": 3
   },
   "file_extension": ".py",
   "mimetype": "text/x-python",
   "name": "python",
   "nbconvert_exporter": "python",
   "pygments_lexer": "ipython3",
   "version": "3.11.9"
  }
 },
 "nbformat": 4,
 "nbformat_minor": 2
}
