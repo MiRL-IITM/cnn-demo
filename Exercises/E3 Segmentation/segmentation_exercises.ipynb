{
 "cells": [
  {
   "cell_type": "markdown",
   "metadata": {},
   "source": [
    "# 1 Visualize a Sample Image and its Segmentation Mask\n",
    "\n"
   ]
  },
  {
   "cell_type": "code",
   "execution_count": null,
   "metadata": {},
   "outputs": [],
   "source": [
    "# Code to visualize a sample image and its segmentation mask"
   ]
  },
  {
   "cell_type": "markdown",
   "metadata": {},
   "source": [
    "# 2 Identify the Classes in the Code that is used to load the data\n",
    "\n",
    "Q2.1: First of all identify the classes that are used to load the data.\n",
    "\n"
   ]
  },
  {
   "cell_type": "markdown",
   "metadata": {},
   "source": [
    "\n",
    "Q2.2: What is the purpose of the `tiles` method in the `DroneDataset` class? (MORE DIFFICULT - Can skip if you are short on time)\n",
    "\n"
   ]
  },
  {
   "cell_type": "markdown",
   "metadata": {},
   "source": [
    "\n",
    "Q2.3: What is the purpose of the `DroneTestDataset` class? Why is it different from the `DroneDataset` class?\n",
    "\n",
    "\n"
   ]
  },
  {
   "cell_type": "markdown",
   "metadata": {},
   "source": [
    "Q2.4: What is the purpose of the `get_data_loaders` function?\n",
    "\n"
   ]
  },
  {
   "cell_type": "markdown",
   "metadata": {},
   "source": [
    "# 3 Create the Model\n",
    "\n",
    "Q3.1: Look at the `create_model` function. What is the first layer of the model?\n",
    "\n",
    "\n",
    "Q3.2: What is the purpose of the `Conv2d` layer?\n",
    "\n",
    "\n",
    "Q3.3: What is the purpose of the `MaxPool2d` layer?\n",
    "\n",
    "\n",
    "Q3.4: What is the purpose of the `Upsample` layer?\n",
    "\n",
    "\n"
   ]
  },
  {
   "cell_type": "markdown",
   "metadata": {},
   "source": [
    "# 4 Train the Model\n",
    "\n",
    "Q4.1: What is the purpose of the `fit` function?\n",
    "\n",
    "\n",
    "\n",
    "Q4.2: What is the purpose of the `resume_from_checkpoint` function?\n",
    "\n",
    "\n",
    "\n",
    "\n"
   ]
  },
  {
   "cell_type": "markdown",
   "metadata": {},
   "source": [
    "# 5 Inference\n",
    "\n",
    "Q5.1: What is the purpose of the `evaluate_model` function?\n",
    "\n"
   ]
  },
  {
   "cell_type": "markdown",
   "metadata": {},
   "source": [
    "# 6 Visualize Predictions\n",
    "\n",
    "Q6.1: What is the purpose of the `visualize_predictions` function?\n",
    "\n"
   ]
  },
  {
   "cell_type": "markdown",
   "metadata": {},
   "source": [
    "# 7 Metrics\n",
    "\n",
    "Q7.1: What is the purpose of the `mIoU` function?\n",
    "\n",
    "\n",
    "Q7.2: What is the purpose of the `pixel_accuracy` function?\n",
    "\n"
   ]
  },
  {
   "cell_type": "markdown",
   "metadata": {},
   "source": [
    "# 8 Inference - Intermediate Difficulty\n",
    "\n",
    "Q8.1: Write the code to perform inference on a single image using the code provided in the notebook."
   ]
  },
  {
   "cell_type": "markdown",
   "metadata": {},
   "source": [
    "# 9 Train - Intermediate Difficulty\n",
    "\n",
    "Q9.1: Write the code to train the model on the training set and save the model.\n"
   ]
  }
 ],
 "metadata": {
  "kernelspec": {
   "display_name": "ml311",
   "language": "python",
   "name": "python3"
  },
  "language_info": {
   "codemirror_mode": {
    "name": "ipython",
    "version": 3
   },
   "file_extension": ".py",
   "mimetype": "text/x-python",
   "name": "python",
   "nbconvert_exporter": "python",
   "pygments_lexer": "ipython3",
   "version": "3.11.9"
  }
 },
 "nbformat": 4,
 "nbformat_minor": 2
}
