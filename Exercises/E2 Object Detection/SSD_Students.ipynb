{
  "nbformat": 4,
  "nbformat_minor": 0,
  "metadata": {
    "colab": {
      "provenance": []
    },
    "kernelspec": {
      "name": "python3",
      "display_name": "Python 3"
    },
    "language_info": {
      "name": "python"
    }
  },
  "cells": [
    {
      "cell_type": "markdown",
      "source": [
        "# Download Dataset"
      ],
      "metadata": {
        "id": "0cp9DgGTFYWJ"
      }
    },
    {
      "cell_type": "markdown",
      "source": [
        "The first step is to download our dataset. The task we are going to be performing is face detection in the wild.\n",
        "Steps:\n",
        "1. Create your Roboflow account\n",
        "2. Download the FDDB dataset with coco annotations.\n",
        "3. Move the dataset to your google drive."
      ],
      "metadata": {
        "id": "sar6gWo0FbmM"
      }
    },
    {
      "cell_type": "code",
      "execution_count": null,
      "metadata": {
        "id": "eywV4KSdFCW4"
      },
      "outputs": [],
      "source": [
        "!curl -L \"your-roboflow-link\" > roboflow.zip; unzip roboflow.zip; rm roboflow.zip"
      ]
    },
    {
      "cell_type": "code",
      "source": [
        "import os\n",
        "from google.colab import drive\n",
        "\n",
        "drive.mount('/content/drive')\n",
        "\n",
        "# Define the source and destination paths\n",
        "source_dir = '/content'  # Assuming the files are in the current Colab environment\n",
        "destination_dir = '/content/drive/MyDrive/FDDB'\n",
        "\n",
        "# Create the destination directory if it doesn't exist\n",
        "if not os.path.exists(destination_dir):\n",
        "    os.makedirs(destination_dir)\n",
        "\n",
        "# Define the files and folders to move\n",
        "items_to_move = ['/train', '/valid', 'README.dataset.txt', 'README.roboflow.txt']\n",
        "\n",
        "# Move the items\n",
        "for item in items_to_move:\n",
        "    source_path = os.path.join(source_dir, item)\n",
        "    destination_path = os.path.join(destination_dir, item)\n",
        "\n",
        "    if os.path.exists(source_path):\n",
        "        if os.path.isdir(source_path):\n",
        "          !mv \"$source_path\" \"$destination_dir\"\n",
        "        else:\n",
        "          !mv \"$source_path\" \"$destination_dir\"\n",
        "    else:\n",
        "        print(f\"Warning: {item} not found in {source_dir}\")"
      ],
      "metadata": {
        "id": "viDsjNfygu15"
      },
      "execution_count": null,
      "outputs": []
    },
    {
      "cell_type": "markdown",
      "source": [
        "# Face Detection Tutorial using SSD and FDDB Dataset\n",
        "\n",
        "## 1. Dataset Overview\n",
        "\n",
        "### 1.1 FDDB Dataset Structure\n",
        "The Face Detection Data Set and Benchmark (FDDB) is a standard face detection benchmark consisting of 2,845 images containing 5,171 annotated faces. For this tutorial, we'll be using a COCO-formatted version of FDDB, which structures the data as follows:\n",
        "\n",
        "```\n",
        "FDDB/\n",
        "├── train/\n",
        "│   └── image1.jpg\n",
        "│   └── ...\n",
        "│   └── ...\n",
        "│   └── imageN.jpg\n",
        "│   └── _annotations.coco.json\n",
        "└── valid/\n",
        "    └── image1.jpg\n",
        "    └── ...\n",
        "    └── ...\n",
        "    └── imageN.jpg\n",
        "    └── _annotations.coco.json\n",
        "```\n",
        "### 1.2 Annotation Format\n",
        "The COCO format annotations file (`_annotations.coco`) contains the following structure:\n",
        "```json\n",
        "{\n",
        "    \"images\": [\n",
        "        {\n",
        "            \"id\": 1,\n",
        "            \"file_name\": \"2002/07/19/big/img_391.jpg\",\n",
        "            \"height\": 600,\n",
        "            \"width\": 800\n",
        "        },\n",
        "        ...\n",
        "    ],\n",
        "    \"annotations\": [\n",
        "        {\n",
        "            \"id\": 1,\n",
        "            \"image_id\": 1,\n",
        "            \"bbox\": [x, y, width, height],  # In pixels\n",
        "            \"category_id\": 1  # 1 for face\n",
        "        },\n",
        "        ...\n",
        "    ],\n",
        "    \"categories\": [\n",
        "        {\n",
        "            \"id\": 1,\n",
        "            \"name\": \"face\"\n",
        "        }\n",
        "    ]\n",
        "}\n",
        "```\n",
        "\n",
        "### 1.3 Expected Data Format\n",
        "Our data loader needs to transform this into a format suitable for training SSD:\n",
        "\n",
        "1. **Images**:\n",
        "   - Loaded as RGB\n",
        "   - Resized to standard dimensions (e.g., 300x300 for SSD)\n",
        "   - Normalized with ImageNet statistics\n",
        "   - Returned as torch tensors\n",
        "\n",
        "2. **Annotations**:\n",
        "   - Bounding boxes in [x1, y1, x2, y2] format\n",
        "   - Coordinates normalized to [0, 1] range\n",
        "   - Labels as tensor (1 for face, 0 for background)\n",
        "   - Additional fields required by the detection framework:\n",
        "     - `boxes`: Face bounding boxes\n",
        "     - `labels`: Class labels (face/background)\n",
        "     - `image_id`: Unique identifier for each image\n",
        "     - `area`: Area of each bounding box\n",
        "     - `iscrowd`: Always 0 for this dataset\n",
        "\n",
        "You'll implement a dataset class and data loaders for face detection using the FDDB dataset in COCO format. This implementation involves:\n",
        "1. Loading and processing annotations\n",
        "2. Image handling and transformations\n",
        "3. Creating data loaders for training, validation, and testing\n",
        "\n",
        "\n"
      ],
      "metadata": {
        "id": "yjS2AdrLKavz"
      }
    },
    {
      "cell_type": "markdown",
      "source": [
        "## 1. Data Loading Implementation\n"
      ],
      "metadata": {
        "id": "apjOgoHLK1GM"
      }
    },
    {
      "cell_type": "code",
      "source": [
        "from torch.utils.data import Dataset, DataLoader\n",
        "import torchvision.transforms as T\n",
        "import json\n",
        "import os\n",
        "from PIL import Image\n",
        "import torch\n",
        "\n",
        "class FDDBDataset(Dataset):\n",
        "    \"\"\"\n",
        "    FDDB Dataset class for face detection\n",
        "\n",
        "    Args:\n",
        "        root_dir (str): Root directory containing images and annotations\n",
        "        transforms (callable, optional): Optional image transforms\n",
        "        split (str): Dataset split - 'train', 'val', or 'test'\n",
        "    \"\"\"\n",
        "    def __init__(self, root_dir, transforms=None, split='train'):\n",
        "        \"\"\"\n",
        "        TODO 1: Initialize dataset\n",
        "        - Store input parameters\n",
        "        - Load COCO format annotations\n",
        "        - Create image to annotations mapping\n",
        "\n",
        "        Steps:\n",
        "        1. Load annotation file based on split ('train' or 'test' folder)\n",
        "        2. Parse COCO JSON format\n",
        "        3. Create mapping from image_id to annotations for efficient access\n",
        "        4. Store image information\n",
        "\n",
        "        Hint: COCO JSON structure has 'images' and 'annotations' lists\n",
        "        \"\"\"\n",
        "        pass\n",
        "\n",
        "    def __getitem__(self, idx):\n",
        "        \"\"\"\n",
        "        TODO 2: Get a single item from dataset\n",
        "\n",
        "        Steps:\n",
        "        1. Get image info using index\n",
        "        2. Load and process image:\n",
        "            - Construct correct image path\n",
        "            - Open image with PIL\n",
        "            - Convert to RGB\n",
        "            - Get original dimensions\n",
        "\n",
        "        3. Get annotations for image:\n",
        "            - Find all annotations with matching image_id\n",
        "            - Convert COCO format [x, y, w, h] to [x1, y1, x2, y2]\n",
        "            - Handle invalid annotations (None values)\n",
        "\n",
        "        4. Process data:\n",
        "            - Resize image to 300x300\n",
        "            - Adjust bounding boxes for new size\n",
        "            - Convert boxes to tensor\n",
        "            - Create target dictionary with required fields\n",
        "\n",
        "        5. Apply transforms if provided\n",
        "\n",
        "        Returns:\n",
        "            tuple: (image, target_dict)\n",
        "            - image: Transformed PIL Image or tensor\n",
        "            - target_dict: Dictionary containing:\n",
        "                - boxes: tensor[N, 4]\n",
        "                - labels: tensor[N]\n",
        "                - image_id: tensor[1]\n",
        "                - area: tensor[N]\n",
        "                - iscrowd: tensor[N]\n",
        "\n",
        "        Hint: Remember to scale bounding boxes when resizing image\n",
        "        \"\"\"\n",
        "        pass\n",
        "\n",
        "    def __len__(self):\n",
        "        \"\"\"\n",
        "        TODO 3: Return dataset length\n",
        "        \"\"\"\n",
        "        pass\n",
        "\n",
        "\n",
        "def get_data_loaders(data_path, batch_size=32):\n",
        "    \"\"\"\n",
        "    Create train, validation, and test data loaders\n",
        "\n",
        "    TODO 4: Implement data loader creation\n",
        "\n",
        "    Steps:\n",
        "    1. Define transforms for each split:\n",
        "        - Training: Consider adding augmentations\n",
        "        - Validation/Test: Only basic transforms\n",
        "\n",
        "    2. Create datasets:\n",
        "        - Create full training dataset\n",
        "        - Split training data into train/val\n",
        "        - Create separate test dataset\n",
        "\n",
        "    3. Create data loaders:\n",
        "        - Use appropriate batch size\n",
        "        - Set shuffle for training\n",
        "        - Use correct number of workers\n",
        "        - Include collate_fn for batching\n",
        "\n",
        "    Args:\n",
        "        data_path (str): Path to dataset directory\n",
        "        batch_size (int): Batch size for data loaders\n",
        "\n",
        "    Returns:\n",
        "        tuple: (train_loader, val_loader, test_loader)\n",
        "\n",
        "    Hints:\n",
        "    - Use torch.utils.data.random_split for train/val split\n",
        "    - Common split ratio is 80% train, 20% validation\n",
        "    - Remember to handle variable size images in collate_fn\n",
        "    \"\"\"\n",
        "    pass\n",
        "\n",
        "\n",
        "def collate_fn(batch):\n",
        "    \"\"\"\n",
        "    TODO 5: Implement custom collate function\n",
        "\n",
        "    Steps:\n",
        "    1. Separate images and targets from batch\n",
        "    2. Stack images into a single tensor\n",
        "    3. Create list of target dictionaries\n",
        "\n",
        "    Args:\n",
        "        batch: List of tuples (image, target)\n",
        "\n",
        "    Returns:\n",
        "        tuple: (images, targets)\n",
        "        - images: Stacked tensor of images\n",
        "        - targets: List of target dictionaries\n",
        "\n",
        "    Hint: Cannot stack targets due to variable number of objects\n",
        "    \"\"\"\n",
        "    pass"
      ],
      "metadata": {
        "id": "37g3OC9GKbQW"
      },
      "execution_count": null,
      "outputs": []
    },
    {
      "cell_type": "markdown",
      "source": [
        "Let's see if our data loader works!"
      ],
      "metadata": {
        "id": "G4qm94o4ctml"
      }
    },
    {
      "cell_type": "code",
      "source": [
        "import torch\n",
        "from torch.utils.data import DataLoader\n",
        "import torchvision.transforms as T\n",
        "import json\n",
        "import os\n",
        "from PIL import Image\n",
        "\n",
        "# Assuming FDDBDataset, get_data_loaders, and collate_fn are defined as in the provided code\n",
        "\n",
        "# Specify the path to your dataset\n",
        "data_path = \"/content/drive/MyDrive/FDDB/train\"  # Replace with the actual path\n",
        "\n",
        "# Test the dataset and dataloader\n",
        "train_loader, val_loader, test_loader = get_data_loaders(data_path, batch_size=2)  # Use a small batch size for testing\n",
        "\n",
        "# Iterate through the train_loader\n",
        "for images, targets in train_loader:\n",
        "    print(\"Images shape:\", images.shape)  # Print the shape of the image batch\n",
        "    # Access individual targets\n",
        "    for i, target in enumerate(targets):\n",
        "        print(f\"Target {i}:\")\n",
        "        print(f\"  Boxes: {target['boxes']}\")\n",
        "        print(f\"  Labels: {target['labels']}\")\n",
        "        # ... access other target elements ...\n",
        "\n",
        "    break # Break after the first batch for testing\n",
        "\n",
        "# Iterate through the val_loader\n",
        "for images, targets in val_loader:\n",
        "    print(\"Images shape:\", images.shape) # Print the shape of the image batch\n",
        "    # Access individual targets\n",
        "    for i, target in enumerate(targets):\n",
        "        print(f\"Target {i}:\")\n",
        "        print(f\"  Boxes: {target['boxes']}\")\n",
        "        print(f\"  Labels: {target['labels']}\")\n",
        "        # ... access other target elements ...\n",
        "    break # Break after the first batch for testing\n",
        "\n",
        "# Iterate through the test_loader\n",
        "for images, targets in test_loader:\n",
        "    print(\"Images shape:\", images.shape) # Print the shape of the image batch\n",
        "    # Access individual targets\n",
        "    for i, target in enumerate(targets):\n",
        "        print(f\"Target {i}:\")\n",
        "        print(f\"  Boxes: {target['boxes']}\")\n",
        "        print(f\"  Labels: {target['labels']}\")\n",
        "        # ... access other target elements ...\n",
        "    break # Break after the first batch for testing\n",
        "\n",
        "print(\"Dataset and dataloader tested successfully!\")"
      ],
      "metadata": {
        "id": "gayxjLDScxYf"
      },
      "execution_count": null,
      "outputs": []
    },
    {
      "cell_type": "code",
      "source": [
        "import matplotlib.pyplot as plt\n",
        "import matplotlib.patches as patches\n",
        "\n",
        "# Iterate through the val_loader\n",
        "for images, targets in val_loader:\n",
        "    for i, (image, target) in enumerate(zip(images, targets)):\n",
        "        # Convert image tensor to numpy array and reverse normalization\n",
        "        image_np = image.permute(1, 2, 0).numpy()\n",
        "        image_np = (image_np * [0.229, 0.224, 0.225]) + [0.485, 0.456, 0.406]\n",
        "        image_np = (image_np * 255).astype('uint8')\n",
        "\n",
        "        # Create figure and axes\n",
        "        fig, ax = plt.subplots(1)\n",
        "\n",
        "        # Display the image\n",
        "        ax.imshow(image_np)\n",
        "\n",
        "        # Draw bounding boxes\n",
        "        boxes = target['boxes']\n",
        "        for box in boxes:\n",
        "            x1, y1, x2, y2 = box\n",
        "            rect = patches.Rectangle((x1, y1), (x2 - x1), (y2 - y1), linewidth=2, edgecolor='r', facecolor='none')\n",
        "            ax.add_patch(rect)\n",
        "\n",
        "        # Display the plot\n",
        "        plt.show()\n",
        "\n",
        "    break # Break after the first batch for testing"
      ],
      "metadata": {
        "id": "Cc08PSJ5czUL"
      },
      "execution_count": null,
      "outputs": []
    },
    {
      "cell_type": "markdown",
      "source": [
        "This should display two images on the notebook with the appropriate bounding box."
      ],
      "metadata": {
        "id": "Y_c6fqUtdST9"
      }
    },
    {
      "cell_type": "markdown",
      "source": [
        "# Single Shot Detector (SSD) Implementation Tutorial\n",
        "\n",
        "## 1. Theoretical Background\n",
        "\n",
        "### 1.1 What is SSD?\n",
        "Single Shot Detector (SSD) is a popular object detection architecture that performs detection in a single forward pass, making it both efficient and accurate. The key innovations of SSD include:\n",
        "\n",
        "- Multi-scale feature maps for detection at different scales\n",
        "- Default (anchor) boxes at each feature map cell\n",
        "- Single-stage detection (classification + localization)\n",
        "\n",
        "### 1.2 Architecture Overview\n",
        "SSD uses VGG16 as its backbone network, followed by additional convolutional layers that progressively decrease in size. Key components:\n",
        "\n",
        "- Base network (VGG16 up to conv5_3)\n",
        "- Additional conv layers (conv6 to conv11)\n",
        "- Multiple feature maps for detection (conv4_3, conv7, conv8_2, conv9_2, conv10_2, conv11_2)\n",
        "- Default boxes at each cell of each feature map\n",
        "- Two parallel heads for each feature map:\n",
        "  - Classification head (class scores)\n",
        "  - Regression head (box coordinates)"
      ],
      "metadata": {
        "id": "AsIFhQBQGM5Q"
      }
    },
    {
      "cell_type": "markdown",
      "source": [
        "![image.png](data:image/png;base64,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)\n",
        "\n"
      ],
      "metadata": {
        "id": "KqgIMTsMGXU7"
      }
    },
    {
      "cell_type": "markdown",
      "source": [
        "Image Credit: Liu, W. et al. (2016). SSD: Single Shot MultiBox Detector. In: Leibe, B., Matas, J., Sebe, N., Welling, M. (eds) Computer Vision – ECCV 2016. ECCV 2016. Lecture Notes in Computer Science(), vol 9905. Springer, Cham. https://doi.org/10.1007/978-3-319-46448-0_2"
      ],
      "metadata": {
        "id": "_vN5Ks9OHVJA"
      }
    },
    {
      "cell_type": "markdown",
      "source": [
        "## 2. Implementation\n",
        "\n",
        "### 2.1 Base Network Implementation\n",
        "\n",
        "First, let's implement the base network using VGG16. Students need to complete the following code:"
      ],
      "metadata": {
        "id": "UJj313TBfNw9"
      }
    },
    {
      "cell_type": "code",
      "source": [
        "# Student Implementation\n",
        "import torch\n",
        "import torch.nn as nn\n",
        "import torchvision.models as models\n",
        "\n",
        "class SSDBase(nn.Module):\n",
        "    \"\"\"\n",
        "    TODO: Implement the SSD base network using pretrained VGG16 that:\n",
        "    1. Loads pretrained VGG16 weights from torchvision\n",
        "    2. Modifies the network for SSD requirements (stop at conv5_3)\n",
        "    3. Freezes early layers for transfer learning\n",
        "\n",
        "    Hints:\n",
        "    - Use torchvision.models.vgg16(pretrained=True)\n",
        "    - Keep layers up to conv5_3 (features[23])\n",
        "    - Consider which layers to freeze\n",
        "    \"\"\"\n",
        "    def __init__(self):\n",
        "        super(SSDBase, self).__init__()\n",
        "        pass\n",
        "\n",
        "    def forward(self, x):\n",
        "        pass"
      ],
      "metadata": {
        "id": "2e4BjiuRIddC"
      },
      "execution_count": null,
      "outputs": []
    },
    {
      "cell_type": "markdown",
      "source": [
        "### HINT\n",
        "You can use this snippet to see the dimensions of the VGG block at each layer and see where to extract features from."
      ],
      "metadata": {
        "id": "oA9NIEwHGGYf"
      }
    },
    {
      "cell_type": "code",
      "source": [
        "from torchsummary import summary\n",
        "\n",
        "# Assuming your SSDBase model is defined as in the previous code\n",
        "model = SSDBase()\n",
        "\n",
        "# Move the model to the appropriate device (GPU if available)\n",
        "device = torch.device(\"cuda\" if torch.cuda.is_available() else \"cpu\")\n",
        "model = model.to(device)\n",
        "\n",
        "# Input size for the summary\n",
        "input_size = (3, 300, 300)\n",
        "\n",
        "# Print the model summary\n",
        "summary(model, input_size=input_size)"
      ],
      "metadata": {
        "id": "IVdZfIpeGFZt"
      },
      "execution_count": null,
      "outputs": []
    },
    {
      "cell_type": "markdown",
      "source": [
        "### 2.2 Extra Feature Layers\n",
        "\n",
        "Students need to implement the additional convolutional layers:"
      ],
      "metadata": {
        "id": "VtUSoFMafmgZ"
      }
    },
    {
      "cell_type": "code",
      "source": [
        "# Student Implementation\n",
        "class ExtraFeatureLayers(nn.Module):\n",
        "    def __init__(self):\n",
        "        super(ExtraFeatureLayers, self).__init__()\n",
        "        # TODO: Implement the extra feature layers (conv6 to conv11)\n",
        "        # Hint: Use similar structure as base network but with decreasing spatial dimensions\n",
        "\n",
        "    def forward(self, x):\n",
        "        # TODO: Implement forward pass\n",
        "        # Return all feature maps that will be used for detection\n",
        "        pass"
      ],
      "metadata": {
        "id": "jNwClTVtfYpZ"
      },
      "execution_count": null,
      "outputs": []
    },
    {
      "cell_type": "markdown",
      "source": [
        "### 2.3 Detection Heads\n",
        "\n",
        "Students implement the classification and regression heads:"
      ],
      "metadata": {
        "id": "Ywj_wPRsfrK0"
      }
    },
    {
      "cell_type": "code",
      "source": [
        "# Student Implementation\n",
        "class DetectionHeads(nn.Module):\n",
        "    def __init__(self, num_classes):\n",
        "        super(DetectionHeads, self).__init__()\n",
        "        # TODO: Implement classification and regression heads for each feature map\n",
        "        # Hint: Use nn.ModuleList for multiple heads\n",
        "        self.num_classes = num_classes\n",
        "        self.num_default_boxes = [4, 6, 6, 6, 4, 4]  # Number of default boxes for each feature map\n",
        "\n",
        "    def forward(self, features):\n",
        "        # TODO: Implement forward pass\n",
        "        # Return classification scores and regression coordinates for each feature map\n",
        "        pass"
      ],
      "metadata": {
        "id": "eQdrB0rnf187"
      },
      "execution_count": null,
      "outputs": []
    },
    {
      "cell_type": "code",
      "source": [
        "# check the sizes of the features which are bein sent to the Detection Heads\n",
        "\n",
        "# Iterate through the val_loader for testing\n",
        "base_network = SSDBase()\n",
        "extra_features_layers = ExtraFeatureLayers()\n",
        "detection_heads = DetectionHeads(num_classes=2)  # 1 classes + background\n",
        "\n",
        "for images, targets in val_loader:\n",
        "    conv4_3_feats, conv5_feats = base_network(images)\n",
        "    print(f\"conv4_3_feats shape: {conv4_3_feats.shape}\")  # Should be [batch_size, 512, 37, 37]\n",
        "\n",
        "    extra_feats = extra_features_layers(conv5_feats)\n",
        "\n",
        "    # Check all feature maps\n",
        "    print(f\"conv7_feats shape: {conv5_feats.shape}\")  # Should be [batch_size, 1024, 18, 18]\n",
        "    for i, features in enumerate(extra_feats):\n",
        "        print(f\"Extra feature map {i+1} shape: {features.shape}\")\n",
        "\n",
        "    # Send to detection heads\n",
        "    cls_preds, reg_preds = detection_heads([conv4_3_feats] + extra_feats)\n",
        "    break"
      ],
      "metadata": {
        "id": "JPGTMLjVnRtx"
      },
      "execution_count": null,
      "outputs": []
    },
    {
      "cell_type": "markdown",
      "source": [
        "It should be:\n",
        "```\n",
        "conv4_3_feats shape: torch.Size([2, 512, 37, 37])\n",
        "conv7_feats shape: torch.Size([2, 512, 18, 18])\n",
        "Extra feature map 1 shape: torch.Size([2, 1024, 18, 18])\n",
        "Extra feature map 2 shape: torch.Size([2, 512, 9, 9])\n",
        "Extra feature map 3 shape: torch.Size([2, 256, 5, 5])\n",
        "Extra feature map 4 shape: torch.Size([2, 256, 3, 3])\n",
        "Extra feature map 5 shape: torch.Size([2, 256, 1, 1])\n",
        "```"
      ],
      "metadata": {
        "id": "sgyE_bAOnbD4"
      }
    },
    {
      "cell_type": "markdown",
      "source": [
        "###2.4 Default Box Generation\n",
        "\n",
        "In SSD (Single Shot MultiBox Detector), **default boxes** (also called anchor boxes) are predefined boxes of different sizes and aspect ratios that are used to detect objects at various locations in the image. These boxes are generated for each feature map of the network, and at each location, multiple default boxes are placed. Here’s the key process:\n",
        "\n",
        "1. **Feature Maps:** The network extracts feature maps at different scales (e.g., 38x38, 19x19). Each cell in the feature map corresponds to a default box.\n",
        "   \n",
        "2. **Steps:** Each feature map cell covers a portion of the image based on its resolution. The step size determines how much of the image a single feature map cell covers.\n",
        "\n",
        "3. **Scales:** Each feature map has default boxes with different sizes, defined by predefined scales. The scale represents the relative size of the default boxes to the input image.\n",
        "\n",
        "4. **Aspect Ratios:** For each feature map cell, default boxes are created with various aspect ratios (e.g., 1:1 for square, 2:1 for rectangles). This allows detection of objects with different shapes.\n",
        "\n",
        "5. **Center Coordinates (cx, cy):** The center of each default box is calculated based on the grid location within the feature map. This helps position the default boxes at various locations in the image.\n",
        "\n",
        "Each default box is used as a reference for predicting the location of objects in the image, adjusting its size and position to match the detected object more accurately.\n",
        "\n",
        "---"
      ],
      "metadata": {
        "id": "IWfpETL30qCM"
      }
    },
    {
      "cell_type": "code",
      "source": [
        "class DefaultBoxGenerator:\n",
        "    def __init__(self):\n",
        "        self.image_size = 300\n",
        "        self.feature_maps = [(37, 37), (18, 18), (9, 9), (5, 5), (3, 3), (1, 1)]\n",
        "        self.steps = [8, 16, 32, 64, 100, 300]\n",
        "        self.scales = [0.1, 0.2, 0.37, 0.54, 0.71, 0.88, 1.05]\n",
        "        self.aspect_ratios = [[2], [2, 3], [2, 3], [2, 3], [2], [2]]\n",
        "\n",
        "    def generate_default_boxes(self):\n",
        "        # TODO: Generate default boxes for each feature map cell\n",
        "        # Hint: Use scales and aspect ratios to generate different box sizes\n",
        "        pass"
      ],
      "metadata": {
        "id": "5FdpMQCeoU8M"
      },
      "execution_count": null,
      "outputs": []
    },
    {
      "cell_type": "markdown",
      "source": [
        "###2.5 Non-Maximum Suppression (NMS)\n",
        "\n",
        "**Non-Maximum Suppression (NMS)** is an algorithm used to filter out redundant bounding boxes after the SSD has predicted multiple boxes for the same object. This ensures that only the most accurate box is kept.\n",
        "\n",
        "1. **Score Sorting:** First, the bounding boxes are sorted by their confidence scores, where higher scores indicate a higher likelihood of containing an object.\n",
        "\n",
        "2. **Keep Highest Score Box:** The algorithm selects the box with the highest score as the most confident prediction.\n",
        "\n",
        "3. **Intersection over Union (IoU):** IoU is a metric that measures the overlap between two bounding boxes. It is calculated as the ratio of the intersection area to the union area of two boxes. If the IoU between two boxes is high (i.e., they overlap significantly), one of them is considered redundant.\n",
        "\n",
        "4. **Remove Overlapping Boxes:** After selecting the highest scoring box, the algorithm suppresses (removes) all other boxes that have an IoU greater than a certain threshold with the selected box. This removes overlapping and redundant predictions.\n",
        "\n",
        "5. **Repeat the Process:** The process is repeated, selecting the next highest-scoring box and removing any boxes that overlap with it until no boxes are left or a specified number of boxes have been kept.\n",
        "\n",
        "This process ensures that only the most relevant bounding boxes are retained, helping avoid multiple predictions for the same object.\n",
        "\n",
        "\n",
        "\n",
        "\n",
        "\n"
      ],
      "metadata": {
        "id": "TKMYUyVO0xmQ"
      }
    },
    {
      "cell_type": "markdown",
      "source": [
        "#### Non-Maximum Suppression Implementation"
      ],
      "metadata": {
        "id": "sUT971bEy_rY"
      }
    },
    {
      "cell_type": "code",
      "source": [
        "# Student Implementation\n",
        "def non_maximum_suppression(boxes, scores, iou_threshold=0.5, top_k=200):\n",
        "    \"\"\"\n",
        "    Args:\n",
        "        boxes: (N, 4) tensor of boxes in (x1, y1, x2, y2) format\n",
        "        scores: (N,) tensor of confidence scores\n",
        "        iou_threshold: IoU threshold for suppression\n",
        "        top_k: Number of boxes to keep\n",
        "    Returns:\n",
        "        kept_boxes: Indices of kept boxes\n",
        "    \"\"\"\n",
        "    # TODO: Implement NMS\n",
        "    # 1. Sort boxes by score\n",
        "    # 2. Keep box with highest score\n",
        "    # 3. Remove boxes with IoU > threshold\n",
        "    # 4. Repeat until done or top_k reached\n",
        "    pass"
      ],
      "metadata": {
        "id": "JsJIW3RbzIUP"
      },
      "execution_count": null,
      "outputs": []
    },
    {
      "cell_type": "markdown",
      "source": [
        "###2.6 Understanding SSD Architecture\n",
        "\n",
        "### Theory\n",
        "The SSD architecture consists of several key components:\n",
        "\n",
        "1. **Base Network (Backbone)**\n",
        "   - Modified VGG16 network\n",
        "   - Extracts hierarchical features\n",
        "   - Outputs feature maps at different scales\n",
        "\n",
        "2. **Feature Pyramid**\n",
        "   - Multiple feature maps for multi-scale detection\n",
        "   - Each level responsible for different object sizes\n",
        "   - Feature map sizes: 38x38, 19x19, 10x10, 5x5, 3x3, 1x1\n",
        "\n",
        "3. **Default Boxes (Anchors)**\n",
        "   - Predefined boxes at each feature map cell\n",
        "   - Various scales and aspect ratios\n",
        "   - Used as reference for predictions\n",
        "\n",
        "4. **Detection Heads**\n",
        "   - Classification head: predicts class scores\n",
        "   - Regression head: predicts box offsets"
      ],
      "metadata": {
        "id": "kOUtWwd9AP77"
      }
    },
    {
      "cell_type": "code",
      "source": [
        "class SSDModel(nn.Module):\n",
        "    \"\"\"\n",
        "    Single Shot Detector implementation\n",
        "    Args:\n",
        "        num_classes: Number of classes (including background)\n",
        "        pretrained: Whether to use pretrained backbone\n",
        "    \"\"\"\n",
        "    def __init__(self, num_classes, pretrained=True):\n",
        "        super(SSDModel, self).__init__()\n",
        "\n",
        "        # TODO 1: Initialize components\n",
        "        # - Base network (SSDBase)\n",
        "        # - Extra feature layers\n",
        "        # - Detection heads\n",
        "        # - Default box generator\n",
        "\n",
        "        # TODO 2: Generate default boxes\n",
        "        pass\n",
        "\n",
        "    def forward(self, x, is_training=True):\n",
        "        \"\"\"\n",
        "        Forward pass with different behavior for training and inference\n",
        "        Args:\n",
        "            x: Input images (batch_size, 3, 300, 300)\n",
        "            is_training: Boolean to indicate training mode\n",
        "        Returns:\n",
        "            Training mode: classification and localization predictions\n",
        "            Inference mode: processed detections\n",
        "        \"\"\"\n",
        "        # TODO 3: Implement backbone forward pass\n",
        "        # - Get conv4_3 and conv5 features\n",
        "\n",
        "        # TODO 4: Get extra features\n",
        "\n",
        "        # TODO 5: Combine all features\n",
        "\n",
        "        # TODO 6: Get predictions from detection heads\n",
        "\n",
        "        # TODO 7: Return based on mode\n",
        "        # - Training: return raw predictions\n",
        "        # - Inference: process predictions with default boxes\n",
        "        pass\n"
      ],
      "metadata": {
        "id": "5mGXiOmhAwZU"
      },
      "execution_count": null,
      "outputs": []
    },
    {
      "cell_type": "markdown",
      "source": [
        "### 5. Loss Function Implementation\n",
        "#### SSD Loss Explanation\n",
        "\n",
        "The **SSD loss** is a combination of two main components: **classification loss** and **localization loss**. It helps train the SSD (Single Shot MultiBox Detector) by ensuring that the network not only detects objects correctly but also accurately places bounding boxes around them. Here's how the loss works:\n",
        "\n",
        "##### 1. **Classification Loss:**\n",
        "\n",
        "The **classification loss** measures how well the network can classify objects into their respective categories. Each default box predicts a class (including \"background\" for no object), and the classification loss computes how accurately these predictions match the ground truth classes.\n",
        "\n",
        "The main challenge is that most of the default boxes do not contain objects, leading to a heavy imbalance between positive (object) and negative (background) examples. To solve this, SSD uses **hard negative mining**.\n",
        "\n",
        "- **Hard Negative Mining:** This technique selects only the hardest (highest loss) negative examples to balance the number of negative and positive samples. In the code, the `hard_negative_mining` function sorts the classification loss of the negative boxes, then keeps only the top-k hardest negative examples, where \\( k \\) is determined by the **negative-to-positive ratio** (typically 3:1). This helps the network focus on the most confusing negative samples, which are harder to classify as background.\n",
        "\n",
        "##### 2. **Localization Loss:**\n",
        "\n",
        "The **localization loss** measures how accurately the network predicts the location and size of the bounding boxes for objects. SSD uses the **Smooth L1 loss** for this purpose, which is less sensitive to outliers compared to the regular L2 loss.\n",
        "\n",
        "- **Matching Priors with Ground Truth Boxes:** Before calculating the localization loss, SSD first matches each default box (prior) to the ground truth box using the Intersection over Union (IoU) metric. The best matching default boxes are considered positive, and the rest are negative. The localization loss is only computed for the positive matches, meaning it only affects boxes that actually contain objects.\n",
        "\n",
        "- **Encoding Box Coordinates:** The ground truth boxes are encoded to match the format of the predicted boxes. The `encode_box` function in the code adjusts the ground truth coordinates relative to the default box's center and size.\n",
        "\n",
        "##### 3. **Final Loss:**\n",
        "\n",
        "The final loss is a combination of the classification loss and the localization loss:\n",
        "\n",
        "- **Classification Loss:** This loss is computed using cross-entropy on the class predictions, including hard negative mining to ensure a balance between positive and negative examples.\n",
        "\n",
        "- **Localization Loss:** This loss uses Smooth L1 to measure how well the predicted boxes match the ground truth boxes for the positive matches.\n",
        "\n",
        "The total loss is the sum of the classification loss and the localization loss. This combined loss allows the network to learn both object detection (which boxes contain objects) and localization (where the objects are in the image).\n",
        "\n"
      ],
      "metadata": {
        "id": "7B9Irbb-qdAU"
      }
    },
    {
      "cell_type": "code",
      "source": [
        "# Student Implementation\n",
        "class SSDLoss(nn.Module):\n",
        "    def __init__(self):\n",
        "        super(SSDLoss, self).__init__()\n",
        "        # TODO: Implement SSD loss\n",
        "        # 1. Classification loss (Cross Entropy)\n",
        "        # 2. Localization loss (Smooth L1)\n",
        "        # 3. Hard negative mining\n",
        "        pass\n",
        "\n",
        "    def forward(self, predictions, targets):\n",
        "        # TODO: Implement forward pass\n",
        "        # Return combined loss\n",
        "        pass"
      ],
      "metadata": {
        "id": "ScCpfYJlqdrQ"
      },
      "execution_count": null,
      "outputs": []
    },
    {
      "cell_type": "markdown",
      "source": [
        "### 7 Metrics Implementation\n",
        "\n",
        "An important part of any machine learning problem is the metrics. Let's implement the metrics for object detection here.\n",
        "Students implement evaluation metrics:"
      ],
      "metadata": {
        "id": "VtIZGBZthog2"
      }
    },
    {
      "cell_type": "code",
      "source": [
        "# Student Implementation\n",
        "class DetectionMetrics:\n",
        "    def __init__(self, iou_threshold=0.5):\n",
        "        self.iou_threshold = iou_threshold\n",
        "\n",
        "    def calculate_iou(self, box1, box2):\n",
        "        # TODO: Implement IoU calculation between two boxes\n",
        "        pass\n",
        "\n",
        "    def calculate_map(self, predictions, targets):\n",
        "        # TODO: Implement mean Average Precision calculation\n",
        "        # Hint: Use IoU for matching predictions with ground truth\n",
        "        pass"
      ],
      "metadata": {
        "id": "7fzVfoI0hqT4"
      },
      "execution_count": null,
      "outputs": []
    },
    {
      "cell_type": "markdown",
      "source": [
        "##8. Training the SSD Object Detector\n",
        "\n",
        "The training process for SSD involves several key components:\n",
        "\n",
        "1. **Batch Processing**: Each batch contains images and their corresponding target annotations (bounding boxes and class labels).\n",
        "\n",
        "2. **Forward Pass**:\n",
        "   - The model processes the input images\n",
        "   - Produces classification scores and bounding box predictions\n",
        "   - These predictions are compared with the ground truth\n",
        "\n",
        "3. **Loss Calculation**:\n",
        "   - Combines classification loss (for object category prediction)\n",
        "   - Localization loss (for bounding box coordinates)\n",
        "   - Uses hard negative mining to handle class imbalance\n",
        "\n",
        "4. **Optimization**:\n",
        "   - Backpropagation to compute gradients\n",
        "   - Update model parameters using the optimizer\n",
        "   - Optional validation step to monitor model performance\n",
        "\n",
        "5. **Early Stopping**:\n",
        "   - Monitors validation loss\n",
        "   - Stops training if no improvement is seen for a specified number of epochs\n",
        "   - Saves the best model based on validation performance\n",
        "\n",
        "Here's the training implementation task:\n"
      ],
      "metadata": {
        "id": "biSG5uGSzNj4"
      }
    },
    {
      "cell_type": "markdown",
      "source": [
        "#### Training Tips\n",
        "\n",
        "1. Loss Function Parameters:\n",
        "   - Classification weight: 1.0\n",
        "   - Localization weight: 1.0\n",
        "   - Hard negative mining ratio: 3:1\n",
        "\n",
        "2. Training Hyperparameters:\n",
        "   - Learning rate: 1e-3 with cosine annealing\n",
        "   - Batch size: 32\n",
        "   - Number of epochs: 120\n",
        "   - Weight decay: 5e-4\n",
        "   - Momentum: 0.9\n",
        "   - Warmup epochs: 5"
      ],
      "metadata": {
        "id": "7-zQecszh8W6"
      }
    },
    {
      "cell_type": "code",
      "source": [
        "def train_detector(model, train_loader, val_loader, criterion, optimizer,\n",
        "                  num_epochs, device, patience=5):\n",
        "    \"\"\"Training loop with validation and early stopping\"\"\"\n",
        "\n",
        "    # TODO 1: Initialize tracking variables\n",
        "    # - best_val_loss, best_model_state, patience_counter\n",
        "\n",
        "    # TODO 2: Training loop\n",
        "    for epoch in range(num_epochs):\n",
        "        # Model training\n",
        "        model.train()\n",
        "\n",
        "        # TODO 3: Batch processing\n",
        "        for batch_idx, (images, targets) in enumerate(train_loader):\n",
        "            # Move to device\n",
        "            # Forward pass (is_training=True)\n",
        "            # Calculate loss\n",
        "            # Backward pass and optimize\n",
        "            pass\n",
        "\n",
        "        # TODO 4: Validation step\n",
        "        # TODO 5: Early stopping check\n",
        "        pass\n"
      ],
      "metadata": {
        "id": "DLTrGUzfzRpT"
      },
      "execution_count": null,
      "outputs": []
    },
    {
      "cell_type": "code",
      "source": [
        "# Training\n",
        "model = SSDModel(num_classes=2)  # 1 class + background\n",
        "criterion = SSDLoss()\n",
        "optimizer = torch.optim.Adam(model.parameters(), lr=0.001)\n",
        "device = torch.device('cuda' if torch.cuda.is_available() else 'cpu')\n",
        "\n",
        "trained_model, history = train_detector(\n",
        "    model=model,\n",
        "    train_loader=train_loader,\n",
        "    val_loader=val_loader,\n",
        "    criterion=criterion,\n",
        "    optimizer=optimizer,\n",
        "    num_epochs=50,\n",
        "    device=device,\n",
        "    patience=5\n",
        ")"
      ],
      "metadata": {
        "id": "rlAv5P5R2vSJ"
      },
      "execution_count": null,
      "outputs": []
    },
    {
      "cell_type": "markdown",
      "source": [
        "Students can extend this implementation by:\n",
        "1. Adding learning rate scheduling\n",
        "2. Implementing gradient clipping\n",
        "3. Adding more detailed progress bars using tqdm\n",
        "4. Saving model checkpoints periodically\n",
        "5. Adding additional metrics tracking"
      ],
      "metadata": {
        "id": "esAhfCHW4fOU"
      }
    },
    {
      "cell_type": "markdown",
      "source": [
        "##9. SSD Model Evaluation\n",
        "\n",
        "Evaluation involves:\n",
        "1. **Post-processing**\n",
        "   - Non-maximum suppression\n",
        "   - Confidence thresholding\n",
        "   - Box decoding\n",
        "\n",
        "2. **Metrics**\n",
        "   - Mean Average Precision (mAP)\n",
        "   - Per-class evaluation\n",
        "   - Inference time\n",
        "\n",
        "The evaluation of object detection models involves calculating metrics that measure both localization and classification accuracy. The main metric is mean Average Precision (mAP), which combines:\n",
        "\n",
        "1. **Precision**: The ratio of correct detections to total detections\n",
        "2. **Recall**: The ratio of correct detections to total ground truth objects\n",
        "3. **IoU (Intersection over Union)**: Measures the overlap between predicted and ground truth boxes"
      ],
      "metadata": {
        "id": "dHYWWin25VvF"
      }
    },
    {
      "cell_type": "code",
      "source": [
        "def evaluate_detector(model, test_loader, device, metrics, confidence_threshold=0.5):\n",
        "    \"\"\"Evaluation function for SSD model\"\"\"\n",
        "\n",
        "    # TODO 1: Model setup\n",
        "    model.eval()\n",
        "\n",
        "    # TODO 2: Evaluation loop\n",
        "    with torch.no_grad():\n",
        "        for images, targets in test_loader:\n",
        "            # Get predictions (is_training=False)\n",
        "            # Process predictions\n",
        "            # Calculate metrics\n",
        "            pass"
      ],
      "metadata": {
        "id": "l0s793fj5WRd"
      },
      "execution_count": null,
      "outputs": []
    },
    {
      "cell_type": "code",
      "source": [
        "metrics = DetectionMetrics(iou_threshold=0.5)\n",
        "results = evaluate_detector(\n",
        "    model=trained_model,\n",
        "    test_loader=test_loader,\n",
        "    device=device,\n",
        "    metrics=metrics\n",
        ")\n",
        "print(f\"Overall mAP: {results['mAP']:.4f}\")\n",
        "print(f\"Average inference time: {results['avg_inference_time']*1000:.2f}ms\")"
      ],
      "metadata": {
        "id": "Br3GrHnI3FJu"
      },
      "execution_count": null,
      "outputs": []
    },
    {
      "cell_type": "markdown",
      "source": [
        "##10. Visualization Function\n",
        "\n",
        "Visualization is crucial for:\n",
        "1. Debugging detection results\n",
        "2. Understanding model behavior\n",
        "3. Presenting results to stakeholders\n",
        "4. Identifying failure cases\n",
        "\n",
        "Visualization includes:\n",
        "1. Box drawing with different colors for GT and predictions\n",
        "2. Confidence score display\n",
        "3. Class label display\n",
        "\n",
        "### Example: Visualizing a Single Batch"
      ],
      "metadata": {
        "id": "9HnJClj05j2r"
      }
    },
    {
      "cell_type": "code",
      "source": [
        "def visualize_batch(model, batch, confidence_threshold=0.5):\n",
        "    \"\"\"\n",
        "    Visualize predictions for a single batch\n",
        "    Args:\n",
        "        model: Trained SSD model\n",
        "        batch: Tuple of (images, targets)\n",
        "        confidence_threshold: Threshold for showing predictions\n",
        "    \"\"\"\n",
        "    images, targets = batch\n",
        "    batch_size = images.shape[0]\n",
        "\n",
        "    # Get predictions\n",
        "    model.eval()\n",
        "    with torch.no_grad():\n",
        "        detections = model(images, is_training=False)\n",
        "\n",
        "    # Create figure\n",
        "    fig, axes = plt.subplots(2, 2, figsize=(12, 12))\n",
        "    axes = axes.ravel()\n",
        "\n",
        "    # Show up to 4 images from batch\n",
        "    for idx in range(min(batch_size, 4)):\n",
        "        ax = axes[idx]\n",
        "        image = images[idx].permute(1, 2, 0)  # CHW -> HWC\n",
        "\n",
        "        # Draw ground truth boxes (red)\n",
        "        for box in targets[idx]['boxes']:\n",
        "            box = box.cpu().numpy()\n",
        "            rect = patches.Rectangle(\n",
        "                (box[0], box[1]),\n",
        "                box[2] - box[0],\n",
        "                box[3] - box[1],\n",
        "                linewidth=2,\n",
        "                edgecolor='r',\n",
        "                facecolor='none'\n",
        "            )\n",
        "            ax.add_patch(rect)\n",
        "\n",
        "        # Draw predictions (green)\n",
        "        det = detections[idx]\n",
        "        mask = det['scores'] > confidence_threshold\n",
        "        for box, score in zip(det['boxes'][mask], det['scores'][mask]):\n",
        "            box = box.cpu().numpy()\n",
        "            rect = patches.Rectangle(\n",
        "                (box[0], box[1]),\n",
        "                box[2] - box[0],\n",
        "                box[3] - box[1],\n",
        "                linewidth=2,\n",
        "                edgecolor='g',\n",
        "                facecolor='none'\n",
        "            )\n",
        "            ax.add_patch(rect)\n",
        "            # Add confidence score\n",
        "            ax.text(\n",
        "                box[0], box[1] - 5,\n",
        "                f'{score:.2f}',\n",
        "                color='g',\n",
        "                fontsize=8\n",
        "            )\n",
        "\n",
        "        ax.imshow(image)\n",
        "        ax.axis('off')\n",
        "        ax.set_title(f'Image {idx+1}')\n",
        "\n",
        "    plt.tight_layout()\n",
        "    return fig"
      ],
      "metadata": {
        "id": "jOL9TKXoBsV6"
      },
      "execution_count": null,
      "outputs": []
    },
    {
      "cell_type": "code",
      "source": [
        "dataiter = iter(test_loader)\n",
        "batch = next(dataiter)\n",
        "\n",
        "# Visualize batch\n",
        "fig = visualize_batch(model, batch, confidence_threshold=0.5)\n",
        "plt.show()"
      ],
      "metadata": {
        "id": "APKhyqQIBxXR"
      },
      "execution_count": null,
      "outputs": []
    },
    {
      "cell_type": "markdown",
      "source": [
        "### Student Implementation Task 4 - Single Image Visualization"
      ],
      "metadata": {
        "id": "S45c0UWnB5hQ"
      }
    },
    {
      "cell_type": "code",
      "source": [
        "def visualize_detections(image, detection=None, target=None, confidence_threshold=0.5):\n",
        "    \"\"\"\n",
        "    Visualize detections for a single image\n",
        "\n",
        "    TODO 1: Convert tensor to PIL image if needed\n",
        "    TODO 2: Draw ground truth boxes in red\n",
        "    TODO 3: Draw predicted boxes in green with scores\n",
        "    TODO 4: Add legend\n",
        "    TODO 5: Handle different image formats\n",
        "    \"\"\"\n",
        "    pass\n"
      ],
      "metadata": {
        "id": "tM9JYpM05gFS"
      },
      "execution_count": null,
      "outputs": []
    },
    {
      "cell_type": "markdown",
      "source": [
        "## Key Implementation Tips:\n",
        "1. Always check device compatibility\n",
        "2. Use appropriate batch size for your GPU memory\n",
        "3. Monitor loss values for training stability\n",
        "4. Use confidence threshold tuning for better results\n",
        "5. Implement proper error handling for edge cases"
      ],
      "metadata": {
        "id": "zs7VvrR6CIkV"
      }
    },
    {
      "cell_type": "code",
      "source": [
        "image, target = test_dataset[0]\n",
        "with torch.no_grad():\n",
        "    detections = model(image.unsqueeze(0).to(device), is_training=False)\n",
        "    detection = detections[0]  # Get first image's predictions\n",
        "\n",
        "visualized_image = visualize_detections(\n",
        "    image,\n",
        "    detection=detection,\n",
        "    target=target,\n",
        "    confidence_threshold=0.5\n",
        ")\n",
        "visualized_image.show()"
      ],
      "metadata": {
        "id": "NHXmXNtB31JU"
      },
      "execution_count": null,
      "outputs": []
    },
    {
      "cell_type": "markdown",
      "source": [
        "Key Features of the Implementation:\n",
        "\n",
        "1. **Evaluation Function:**\n",
        "   - Processes batch predictions efficiently\n",
        "   - Applies confidence thresholding and NMS\n",
        "   - Calculates both overall and per-class mAP\n",
        "   - Handles device management and no_grad evaluation\n",
        "\n",
        "2. **Visualization Function:**\n",
        "   - Supports both tensor and PIL image inputs\n",
        "   - Distinct colors for predictions and ground truth\n",
        "   - Displays confidence scores and class labels\n",
        "   - Includes a legend for clarity\n",
        "   - Handles font loading gracefully\n",
        "\n",
        "Students can extend these implementations by:\n",
        "1. Adding more evaluation metrics (e.g., precision, recall curves)\n",
        "2. Supporting different color schemes for different classes\n",
        "3. Adding batch visualization capabilities\n",
        "4. Including error analysis visualization\n",
        "5. Adding support for saving results to files"
      ],
      "metadata": {
        "id": "qvx4LaKv4BLF"
      }
    },
    {
      "cell_type": "markdown",
      "source": [
        "This completes the SSD implementation tutorial. Students should now be able to:\n",
        "1. Understand the SSD architecture and its components\n",
        "2. Implement each component from scratch\n",
        "3. Train the model on their own dataset\n",
        "4. Perform inference and visualize results\n",
        "\n",
        "For practice, try implementing:\n",
        "1. Additional data augmentation techniques\n",
        "2. Different backbone networks\n",
        "3. Feature Pyramid Network (FPN) modifications\n",
        "4. Focal Loss instead of Cross Entropy\n",
        "5. Different box encoding/decoding schemes\n",
        "\n",
        "Feel free to experiment with the hyperparameters and architecture to improve performance on your specific use case."
      ],
      "metadata": {
        "id": "F2bRV-Hl55Do"
      }
    }
  ]
}